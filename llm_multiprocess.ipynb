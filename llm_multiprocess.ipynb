{
 "cells": [
  {
   "cell_type": "code",
   "execution_count": 4,
   "metadata": {},
   "outputs": [],
   "source": [
    "from datasets import load_dataset\n",
    "datasets = load_dataset(\"0ho/openssl_instruction2\",cache_dir='./dataset')"
   ]
  },
  {
   "cell_type": "code",
   "execution_count": 5,
   "metadata": {},
   "outputs": [
    {
     "name": "stdout",
     "output_type": "stream",
     "text": [
      "1903\n"
     ]
    }
   ],
   "source": [
    "import os, signal\n",
    "pid = os.getpid()\n",
    "print(pid)"
   ]
  },
  {
   "cell_type": "code",
   "execution_count": 6,
   "metadata": {},
   "outputs": [
    {
     "name": "stdout",
     "output_type": "stream",
     "text": [
      "START: meta-llama/Meta-Llama-3-8B-Instruct from worker_1\n",
      "PID: 4595\n",
      "START: meta-llama/Meta-Llama-3-8B-Instruct from worker_0\n",
      "PID: 4594\n"
     ]
    },
    {
     "name": "stderr",
     "output_type": "stream",
     "text": [
      "/Users/choisoonwook/anaconda3/envs/instruction_llm/lib/python3.11/site-packages/huggingface_hub/file_download.py:1132: FutureWarning: `resume_download` is deprecated and will be removed in version 1.0.0. Downloads always resume when possible. If you want to force a new download, use `force_download=True`.\n",
      "  warnings.warn(\n",
      "/Users/choisoonwook/anaconda3/envs/instruction_llm/lib/python3.11/site-packages/huggingface_hub/file_download.py:1132: FutureWarning: `resume_download` is deprecated and will be removed in version 1.0.0. Downloads always resume when possible. If you want to force a new download, use `force_download=True`.\n",
      "  warnings.warn(\n",
      "Loading checkpoint shards: 100%|██████████| 4/4 [00:04<00:00,  1.10s/it]\n",
      "Loading checkpoint shards: 100%|██████████| 4/4 [00:04<00:00,  1.10s/it]\n",
      "Special tokens have been added in the vocabulary, make sure the associated word embeddings are fine-tuned or trained.\n",
      "Setting `pad_token_id` to `eos_token_id`:128009 for open-end generation.\n",
      "Special tokens have been added in the vocabulary, make sure the associated word embeddings are fine-tuned or trained.\n",
      "Setting `pad_token_id` to `eos_token_id`:128009 for open-end generation.\n"
     ]
    },
    {
     "name": "stdout",
     "output_type": "stream",
     "text": [
      "FINISH: meta-llama/Meta-Llama-3-8B-Instruct from worker1\n",
      "FINISH: meta-llama/Meta-Llama-3-8B-Instruct from worker0\n"
     ]
    }
   ],
   "source": [
    "from multiprocessing import Process, Queue\n",
    "from training_code import trainer\n",
    "from discord_sender import send_message\n",
    "from IPython import get_ipython\n",
    "\n",
    "try:\n",
    "    procs_num = 2\n",
    "    procs = list()\n",
    "    for index in range(procs_num):\n",
    "        proc = Process(target=trainer, args=(index, datasets, ))\n",
    "        procs.append(proc)\n",
    "        proc.start()\n",
    "    \n",
    "    for proc in procs:\n",
    "        proc.join()\n",
    "\n",
    "except Exception as e:\n",
    "    print(e)\n",
    "    send_message(e)"
   ]
  }
 ],
 "metadata": {
  "kernelspec": {
   "display_name": "instruction_llm",
   "language": "python",
   "name": "python3"
  },
  "language_info": {
   "codemirror_mode": {
    "name": "ipython",
    "version": 3
   },
   "file_extension": ".py",
   "mimetype": "text/x-python",
   "name": "python",
   "nbconvert_exporter": "python",
   "pygments_lexer": "ipython3",
   "version": "3.11.9"
  }
 },
 "nbformat": 4,
 "nbformat_minor": 2
}
