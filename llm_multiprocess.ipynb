{
 "cells": [
  {
   "cell_type": "code",
   "execution_count": null,
   "metadata": {},
   "outputs": [],
   "source": [
    "from datasets import load_dataset\n",
    "datasets = load_dataset(\"0ho/openssl_instruction2\",cache_dir='./dataset')"
   ]
  },
  {
   "cell_type": "code",
   "execution_count": null,
   "metadata": {},
   "outputs": [],
   "source": [
    "webhook_url = \"https://discord.com/api/webhooks/1242492003854323833/rhy9ugLaGzCE8_NkT-7VWuN37L2LOrbPfaDd4Tkg0PlPITpkxNM58VA-rCRBcwR1pQbG\""
   ]
  },
  {
   "cell_type": "code",
   "execution_count": null,
   "metadata": {},
   "outputs": [],
   "source": [
    "from multiprocessing import Process, Queue\n",
    "from training_code import trainer\n",
    "try:\n",
    "    procs_num = 2\n",
    "    procs = list()\n",
    "    for index in range(procs_num):\n",
    "        proc = Process(target=trainer, args=(index, datasets, ))\n",
    "        procs.append(proc)\n",
    "        proc.start()\n",
    "    \n",
    "    for proc in procs:\n",
    "        proc.join()\n",
    "\n",
    "except Exception as e:\n",
    "    print(e)\n",
    "finally:\n",
    "    import IPython\n",
    "    IPython.Application.instance().kernel.do_shutdown(True)"
   ]
  }
 ],
 "metadata": {
  "kernelspec": {
   "display_name": "instruction_llm",
   "language": "python",
   "name": "python3"
  },
  "language_info": {
   "codemirror_mode": {
    "name": "ipython",
    "version": 3
   },
   "file_extension": ".py",
   "mimetype": "text/x-python",
   "name": "python",
   "nbconvert_exporter": "python",
   "pygments_lexer": "ipython3",
   "version": "3.11.9"
  }
 },
 "nbformat": 4,
 "nbformat_minor": 2
}
